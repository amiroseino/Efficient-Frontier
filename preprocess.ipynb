{
 "cells": [
  {
   "cell_type": "code",
   "execution_count": 70,
   "metadata": {},
   "outputs": [],
   "source": [
    "import tgju_crawl as tg"
   ]
  },
  {
   "cell_type": "code",
   "execution_count": 71,
   "metadata": {},
   "outputs": [
    {
     "name": "stderr",
     "output_type": "stream",
     "text": [
      "/Users/amirosein/opt/anaconda3/envs/quera/lib/python3.9/site-packages/tgju_crawl/__init__.py:27: SettingWithCopyWarning: \n",
      "A value is trying to be set on a copy of a slice from a DataFrame\n",
      "\n",
      "See the caveats in the documentation: https://pandas.pydata.org/pandas-docs/stable/user_guide/indexing.html#returning-a-view-versus-a-copy\n",
      "  df.loc['طلای دست دوم']['symbol_En'] = 'gold_mini_size'\n"
     ]
    }
   ],
   "source": [
    "df = tg.get_df_of_symbols()"
   ]
  },
  {
   "cell_type": "code",
   "execution_count": 72,
   "metadata": {},
   "outputs": [],
   "source": [
    "df.to_excel('df.xlsx')"
   ]
  },
  {
   "cell_type": "code",
   "execution_count": 73,
   "metadata": {},
   "outputs": [
    {
     "data": {
      "text/html": [
       "<div>\n",
       "<style scoped>\n",
       "    .dataframe tbody tr th:only-of-type {\n",
       "        vertical-align: middle;\n",
       "    }\n",
       "\n",
       "    .dataframe tbody tr th {\n",
       "        vertical-align: top;\n",
       "    }\n",
       "\n",
       "    .dataframe thead th {\n",
       "        text-align: right;\n",
       "    }\n",
       "</style>\n",
       "<table border=\"1\" class=\"dataframe\">\n",
       "  <thead>\n",
       "    <tr style=\"text-align: right;\">\n",
       "      <th></th>\n",
       "      <th>symbol_En</th>\n",
       "      <th>SYMBOL</th>\n",
       "    </tr>\n",
       "    <tr>\n",
       "      <th>symbol_Fa</th>\n",
       "      <th></th>\n",
       "      <th></th>\n",
       "    </tr>\n",
       "  </thead>\n",
       "  <tbody>\n",
       "    <tr>\n",
       "      <th>مثقال طلا</th>\n",
       "      <td>mesghal</td>\n",
       "      <td>MESGHAL</td>\n",
       "    </tr>\n",
       "    <tr>\n",
       "      <th>طلای 18 عیار</th>\n",
       "      <td>geram18</td>\n",
       "      <td>GERAM18</td>\n",
       "    </tr>\n",
       "    <tr>\n",
       "      <th>طلای 24 عیار</th>\n",
       "      <td>geram24</td>\n",
       "      <td>GERAM24</td>\n",
       "    </tr>\n",
       "    <tr>\n",
       "      <th>طلای دست دوم</th>\n",
       "      <td>technical</td>\n",
       "      <td>TECHNICAL</td>\n",
       "    </tr>\n",
       "    <tr>\n",
       "      <th>دلار</th>\n",
       "      <td>price_dollar_rl</td>\n",
       "      <td>PRICE_DOLLAR_RL</td>\n",
       "    </tr>\n",
       "    <tr>\n",
       "      <th>...</th>\n",
       "      <td>...</td>\n",
       "      <td>...</td>\n",
       "    </tr>\n",
       "    <tr>\n",
       "      <th>میدان نفتی الشاهین قطر</th>\n",
       "      <td>al-shaheen-qatar-1</td>\n",
       "      <td>AL-SHAHEEN-QATAR-1</td>\n",
       "    </tr>\n",
       "    <tr>\n",
       "      <th>نفت کوا آیبو</th>\n",
       "      <td>qua-iboe-1</td>\n",
       "      <td>QUA-IBOE-1</td>\n",
       "    </tr>\n",
       "    <tr>\n",
       "      <th>میدان براس ریور</th>\n",
       "      <td>brass-river-1</td>\n",
       "      <td>BRASS-RIVER-1</td>\n",
       "    </tr>\n",
       "    <tr>\n",
       "      <th>میدان نفتی سوکول</th>\n",
       "      <td>sokol</td>\n",
       "      <td>SOKOL</td>\n",
       "    </tr>\n",
       "    <tr>\n",
       "      <th>میدان نفتی اسپو</th>\n",
       "      <td>espo</td>\n",
       "      <td>ESPO</td>\n",
       "    </tr>\n",
       "  </tbody>\n",
       "</table>\n",
       "<p>232 rows × 2 columns</p>\n",
       "</div>"
      ],
      "text/plain": [
       "                                 symbol_En              SYMBOL\n",
       "symbol_Fa                                                     \n",
       "مثقال طلا                          mesghal             MESGHAL\n",
       "طلای 18 عیار                       geram18             GERAM18\n",
       "طلای 24 عیار                       geram24             GERAM24\n",
       "طلای دست دوم                     technical           TECHNICAL\n",
       "دلار                       price_dollar_rl     PRICE_DOLLAR_RL\n",
       "...                                    ...                 ...\n",
       "میدان نفتی الشاهین قطر  al-shaheen-qatar-1  AL-SHAHEEN-QATAR-1\n",
       "نفت کوا آیبو                    qua-iboe-1          QUA-IBOE-1\n",
       "میدان براس ریور              brass-river-1       BRASS-RIVER-1\n",
       "میدان نفتی سوکول                     sokol               SOKOL\n",
       "میدان نفتی اسپو                       espo                ESPO\n",
       "\n",
       "[232 rows x 2 columns]"
      ]
     },
     "execution_count": 73,
     "metadata": {},
     "output_type": "execute_result"
    }
   ],
   "source": [
    "df"
   ]
  },
  {
   "cell_type": "code",
   "execution_count": 74,
   "metadata": {},
   "outputs": [
    {
     "name": "stderr",
     "output_type": "stream",
     "text": [
      "/Users/amirosein/opt/anaconda3/envs/quera/lib/python3.9/site-packages/tgju_crawl/__init__.py:27: SettingWithCopyWarning: \n",
      "A value is trying to be set on a copy of a slice from a DataFrame\n",
      "\n",
      "See the caveats in the documentation: https://pandas.pydata.org/pandas-docs/stable/user_guide/indexing.html#returning-a-view-versus-a-copy\n",
      "  df.loc['طلای دست دوم']['symbol_En'] = 'gold_mini_size'\n"
     ]
    }
   ],
   "source": [
    "\n",
    "gold_price = tg.get_tgju_data(symbol = 'طلای 18 عیار')\n"
   ]
  },
  {
   "cell_type": "code",
   "execution_count": 75,
   "metadata": {},
   "outputs": [
    {
     "name": "stderr",
     "output_type": "stream",
     "text": [
      "/Users/amirosein/opt/anaconda3/envs/quera/lib/python3.9/site-packages/tgju_crawl/__init__.py:27: SettingWithCopyWarning: \n",
      "A value is trying to be set on a copy of a slice from a DataFrame\n",
      "\n",
      "See the caveats in the documentation: https://pandas.pydata.org/pandas-docs/stable/user_guide/indexing.html#returning-a-view-versus-a-copy\n",
      "  df.loc['طلای دست دوم']['symbol_En'] = 'gold_mini_size'\n"
     ]
    }
   ],
   "source": [
    "btc_price = tg.get_tgju_data(symbol = 'بیت کوین')"
   ]
  },
  {
   "cell_type": "code",
   "execution_count": 76,
   "metadata": {},
   "outputs": [
    {
     "name": "stderr",
     "output_type": "stream",
     "text": [
      "/Users/amirosein/opt/anaconda3/envs/quera/lib/python3.9/site-packages/tgju_crawl/__init__.py:27: SettingWithCopyWarning: \n",
      "A value is trying to be set on a copy of a slice from a DataFrame\n",
      "\n",
      "See the caveats in the documentation: https://pandas.pydata.org/pandas-docs/stable/user_guide/indexing.html#returning-a-view-versus-a-copy\n",
      "  df.loc['طلای دست دوم']['symbol_En'] = 'gold_mini_size'\n"
     ]
    }
   ],
   "source": [
    "eur_price = tg.get_tgju_data(symbol = 'یورو')"
   ]
  },
  {
   "cell_type": "code",
   "execution_count": 77,
   "metadata": {},
   "outputs": [
    {
     "data": {
      "text/html": [
       "<div>\n",
       "<style scoped>\n",
       "    .dataframe tbody tr th:only-of-type {\n",
       "        vertical-align: middle;\n",
       "    }\n",
       "\n",
       "    .dataframe tbody tr th {\n",
       "        vertical-align: top;\n",
       "    }\n",
       "\n",
       "    .dataframe thead th {\n",
       "        text-align: right;\n",
       "    }\n",
       "</style>\n",
       "<table border=\"1\" class=\"dataframe\">\n",
       "  <thead>\n",
       "    <tr style=\"text-align: right;\">\n",
       "      <th></th>\n",
       "      <th>Date</th>\n",
       "      <th>Weekday</th>\n",
       "      <th>Open</th>\n",
       "      <th>High</th>\n",
       "      <th>Low</th>\n",
       "      <th>Close</th>\n",
       "      <th>Symbol</th>\n",
       "    </tr>\n",
       "    <tr>\n",
       "      <th>J-Date</th>\n",
       "      <th></th>\n",
       "      <th></th>\n",
       "      <th></th>\n",
       "      <th></th>\n",
       "      <th></th>\n",
       "      <th></th>\n",
       "      <th></th>\n",
       "    </tr>\n",
       "  </thead>\n",
       "  <tbody>\n",
       "    <tr>\n",
       "      <th>1391-04-08</th>\n",
       "      <td>2012-06-28</td>\n",
       "      <td>Thursday</td>\n",
       "      <td>25250</td>\n",
       "      <td>25250</td>\n",
       "      <td>25250</td>\n",
       "      <td>25250</td>\n",
       "      <td>یورو</td>\n",
       "    </tr>\n",
       "    <tr>\n",
       "      <th>1391-04-09</th>\n",
       "      <td>2012-06-29</td>\n",
       "      <td>Friday</td>\n",
       "      <td>25200</td>\n",
       "      <td>25200</td>\n",
       "      <td>25000</td>\n",
       "      <td>25150</td>\n",
       "      <td>یورو</td>\n",
       "    </tr>\n",
       "    <tr>\n",
       "      <th>1391-04-10</th>\n",
       "      <td>2012-06-30</td>\n",
       "      <td>Saturday</td>\n",
       "      <td>25100</td>\n",
       "      <td>25100</td>\n",
       "      <td>24850</td>\n",
       "      <td>24950</td>\n",
       "      <td>یورو</td>\n",
       "    </tr>\n",
       "    <tr>\n",
       "      <th>1391-04-11</th>\n",
       "      <td>2012-07-01</td>\n",
       "      <td>Sunday</td>\n",
       "      <td>24850</td>\n",
       "      <td>24850</td>\n",
       "      <td>24700</td>\n",
       "      <td>24700</td>\n",
       "      <td>یورو</td>\n",
       "    </tr>\n",
       "    <tr>\n",
       "      <th>1391-04-12</th>\n",
       "      <td>2012-07-02</td>\n",
       "      <td>Monday</td>\n",
       "      <td>24720</td>\n",
       "      <td>24890</td>\n",
       "      <td>24700</td>\n",
       "      <td>24890</td>\n",
       "      <td>یورو</td>\n",
       "    </tr>\n",
       "    <tr>\n",
       "      <th>...</th>\n",
       "      <td>...</td>\n",
       "      <td>...</td>\n",
       "      <td>...</td>\n",
       "      <td>...</td>\n",
       "      <td>...</td>\n",
       "      <td>...</td>\n",
       "      <td>...</td>\n",
       "    </tr>\n",
       "    <tr>\n",
       "      <th>1403-05-07</th>\n",
       "      <td>2024-07-28</td>\n",
       "      <td>Sunday</td>\n",
       "      <td>637500</td>\n",
       "      <td>642800</td>\n",
       "      <td>637400</td>\n",
       "      <td>641500</td>\n",
       "      <td>یورو</td>\n",
       "    </tr>\n",
       "    <tr>\n",
       "      <th>1403-05-08</th>\n",
       "      <td>2024-07-29</td>\n",
       "      <td>Monday</td>\n",
       "      <td>641100</td>\n",
       "      <td>644000</td>\n",
       "      <td>638400</td>\n",
       "      <td>642100</td>\n",
       "      <td>یورو</td>\n",
       "    </tr>\n",
       "    <tr>\n",
       "      <th>1403-05-09</th>\n",
       "      <td>2024-07-30</td>\n",
       "      <td>Tuesday</td>\n",
       "      <td>642500</td>\n",
       "      <td>645800</td>\n",
       "      <td>640900</td>\n",
       "      <td>643300</td>\n",
       "      <td>یورو</td>\n",
       "    </tr>\n",
       "    <tr>\n",
       "      <th>1403-05-10</th>\n",
       "      <td>2024-07-31</td>\n",
       "      <td>Wednesday</td>\n",
       "      <td>643400</td>\n",
       "      <td>658500</td>\n",
       "      <td>643400</td>\n",
       "      <td>653200</td>\n",
       "      <td>یورو</td>\n",
       "    </tr>\n",
       "    <tr>\n",
       "      <th>1403-05-11</th>\n",
       "      <td>2024-08-01</td>\n",
       "      <td>Thursday</td>\n",
       "      <td>653000</td>\n",
       "      <td>659400</td>\n",
       "      <td>651500</td>\n",
       "      <td>659100</td>\n",
       "      <td>یورو</td>\n",
       "    </tr>\n",
       "  </tbody>\n",
       "</table>\n",
       "<p>3521 rows × 7 columns</p>\n",
       "</div>"
      ],
      "text/plain": [
       "                 Date    Weekday    Open    High     Low   Close Symbol\n",
       "J-Date                                                                 \n",
       "1391-04-08 2012-06-28   Thursday   25250   25250   25250   25250   یورو\n",
       "1391-04-09 2012-06-29     Friday   25200   25200   25000   25150   یورو\n",
       "1391-04-10 2012-06-30   Saturday   25100   25100   24850   24950   یورو\n",
       "1391-04-11 2012-07-01     Sunday   24850   24850   24700   24700   یورو\n",
       "1391-04-12 2012-07-02     Monday   24720   24890   24700   24890   یورو\n",
       "...               ...        ...     ...     ...     ...     ...    ...\n",
       "1403-05-07 2024-07-28     Sunday  637500  642800  637400  641500   یورو\n",
       "1403-05-08 2024-07-29     Monday  641100  644000  638400  642100   یورو\n",
       "1403-05-09 2024-07-30    Tuesday  642500  645800  640900  643300   یورو\n",
       "1403-05-10 2024-07-31  Wednesday  643400  658500  643400  653200   یورو\n",
       "1403-05-11 2024-08-01   Thursday  653000  659400  651500  659100   یورو\n",
       "\n",
       "[3521 rows x 7 columns]"
      ]
     },
     "execution_count": 77,
     "metadata": {},
     "output_type": "execute_result"
    }
   ],
   "source": [
    "eur_price"
   ]
  },
  {
   "cell_type": "code",
   "execution_count": 78,
   "metadata": {},
   "outputs": [],
   "source": [
    "btc_eur = pd.read_csv('BTC-EUR.csv')"
   ]
  },
  {
   "cell_type": "code",
   "execution_count": null,
   "metadata": {},
   "outputs": [],
   "source": []
  },
  {
   "cell_type": "code",
   "execution_count": 80,
   "metadata": {},
   "outputs": [],
   "source": [
    "btc_eur['Date'] = pd.to_datetime(btc_eur['Date'])\n",
    "eur_price['Date'] = pd.to_datetime(eur_price['Date'])\n",
    "\n",
    "result = pd.merge(btc_eur, eur_price, on='Date', how='left', suffixes=('_btc', '_eur'))\n"
   ]
  },
  {
   "cell_type": "code",
   "execution_count": 81,
   "metadata": {},
   "outputs": [],
   "source": [
    "result = result[['Date', 'Close_btc', 'Close_eur']]"
   ]
  },
  {
   "cell_type": "code",
   "execution_count": 82,
   "metadata": {},
   "outputs": [
    {
     "data": {
      "text/html": [
       "<div>\n",
       "<style scoped>\n",
       "    .dataframe tbody tr th:only-of-type {\n",
       "        vertical-align: middle;\n",
       "    }\n",
       "\n",
       "    .dataframe tbody tr th {\n",
       "        vertical-align: top;\n",
       "    }\n",
       "\n",
       "    .dataframe thead th {\n",
       "        text-align: right;\n",
       "    }\n",
       "</style>\n",
       "<table border=\"1\" class=\"dataframe\">\n",
       "  <thead>\n",
       "    <tr style=\"text-align: right;\">\n",
       "      <th></th>\n",
       "      <th>Date</th>\n",
       "      <th>Close_btc</th>\n",
       "      <th>Close_eur</th>\n",
       "    </tr>\n",
       "  </thead>\n",
       "  <tbody>\n",
       "    <tr>\n",
       "      <th>0</th>\n",
       "      <td>2014-09-17</td>\n",
       "      <td>355.957367</td>\n",
       "      <td>41680.0</td>\n",
       "    </tr>\n",
       "    <tr>\n",
       "      <th>1</th>\n",
       "      <td>2014-09-18</td>\n",
       "      <td>328.539368</td>\n",
       "      <td>NaN</td>\n",
       "    </tr>\n",
       "    <tr>\n",
       "      <th>2</th>\n",
       "      <td>2014-09-19</td>\n",
       "      <td>307.761139</td>\n",
       "      <td>41300.0</td>\n",
       "    </tr>\n",
       "    <tr>\n",
       "      <th>3</th>\n",
       "      <td>2014-09-20</td>\n",
       "      <td>318.758972</td>\n",
       "      <td>41240.0</td>\n",
       "    </tr>\n",
       "    <tr>\n",
       "      <th>4</th>\n",
       "      <td>2014-09-21</td>\n",
       "      <td>310.632446</td>\n",
       "      <td>41160.0</td>\n",
       "    </tr>\n",
       "    <tr>\n",
       "      <th>...</th>\n",
       "      <td>...</td>\n",
       "      <td>...</td>\n",
       "      <td>...</td>\n",
       "    </tr>\n",
       "    <tr>\n",
       "      <th>3630</th>\n",
       "      <td>2024-07-30</td>\n",
       "      <td>61759.644531</td>\n",
       "      <td>643300.0</td>\n",
       "    </tr>\n",
       "    <tr>\n",
       "      <th>3631</th>\n",
       "      <td>2024-07-31</td>\n",
       "      <td>61208.531250</td>\n",
       "      <td>653200.0</td>\n",
       "    </tr>\n",
       "    <tr>\n",
       "      <th>3632</th>\n",
       "      <td>2024-08-01</td>\n",
       "      <td>59700.820313</td>\n",
       "      <td>659100.0</td>\n",
       "    </tr>\n",
       "    <tr>\n",
       "      <th>3633</th>\n",
       "      <td>2024-08-02</td>\n",
       "      <td>60592.808594</td>\n",
       "      <td>NaN</td>\n",
       "    </tr>\n",
       "    <tr>\n",
       "      <th>3634</th>\n",
       "      <td>2024-08-03</td>\n",
       "      <td>56561.878906</td>\n",
       "      <td>NaN</td>\n",
       "    </tr>\n",
       "  </tbody>\n",
       "</table>\n",
       "<p>3635 rows × 3 columns</p>\n",
       "</div>"
      ],
      "text/plain": [
       "           Date     Close_btc  Close_eur\n",
       "0    2014-09-17    355.957367    41680.0\n",
       "1    2014-09-18    328.539368        NaN\n",
       "2    2014-09-19    307.761139    41300.0\n",
       "3    2014-09-20    318.758972    41240.0\n",
       "4    2014-09-21    310.632446    41160.0\n",
       "...         ...           ...        ...\n",
       "3630 2024-07-30  61759.644531   643300.0\n",
       "3631 2024-07-31  61208.531250   653200.0\n",
       "3632 2024-08-01  59700.820313   659100.0\n",
       "3633 2024-08-02  60592.808594        NaN\n",
       "3634 2024-08-03  56561.878906        NaN\n",
       "\n",
       "[3635 rows x 3 columns]"
      ]
     },
     "execution_count": 82,
     "metadata": {},
     "output_type": "execute_result"
    }
   ],
   "source": [
    "result"
   ]
  },
  {
   "cell_type": "code",
   "execution_count": 83,
   "metadata": {},
   "outputs": [],
   "source": [
    "result = result.dropna()"
   ]
  },
  {
   "cell_type": "code",
   "execution_count": 84,
   "metadata": {},
   "outputs": [
    {
     "name": "stderr",
     "output_type": "stream",
     "text": [
      "/var/folders/hg/h4r5pwgd6q11lyngyfsf63fr0000gn/T/ipykernel_2096/358881957.py:1: SettingWithCopyWarning: \n",
      "A value is trying to be set on a copy of a slice from a DataFrame.\n",
      "Try using .loc[row_indexer,col_indexer] = value instead\n",
      "\n",
      "See the caveats in the documentation: https://pandas.pydata.org/pandas-docs/stable/user_guide/indexing.html#returning-a-view-versus-a-copy\n",
      "  result['btc_rial'] = result['Close_btc'] * result['Close_eur']\n"
     ]
    }
   ],
   "source": [
    "result['btc_rial'] = result['Close_btc'] * result['Close_eur']"
   ]
  },
  {
   "cell_type": "code",
   "execution_count": 85,
   "metadata": {},
   "outputs": [
    {
     "data": {
      "text/html": [
       "<div>\n",
       "<style scoped>\n",
       "    .dataframe tbody tr th:only-of-type {\n",
       "        vertical-align: middle;\n",
       "    }\n",
       "\n",
       "    .dataframe tbody tr th {\n",
       "        vertical-align: top;\n",
       "    }\n",
       "\n",
       "    .dataframe thead th {\n",
       "        text-align: right;\n",
       "    }\n",
       "</style>\n",
       "<table border=\"1\" class=\"dataframe\">\n",
       "  <thead>\n",
       "    <tr style=\"text-align: right;\">\n",
       "      <th></th>\n",
       "      <th>Date</th>\n",
       "      <th>Close_btc</th>\n",
       "      <th>Close_eur</th>\n",
       "      <th>btc_rial</th>\n",
       "    </tr>\n",
       "  </thead>\n",
       "  <tbody>\n",
       "    <tr>\n",
       "      <th>0</th>\n",
       "      <td>2014-09-17</td>\n",
       "      <td>355.957367</td>\n",
       "      <td>41680.0</td>\n",
       "      <td>1.483630e+07</td>\n",
       "    </tr>\n",
       "    <tr>\n",
       "      <th>2</th>\n",
       "      <td>2014-09-19</td>\n",
       "      <td>307.761139</td>\n",
       "      <td>41300.0</td>\n",
       "      <td>1.271054e+07</td>\n",
       "    </tr>\n",
       "    <tr>\n",
       "      <th>3</th>\n",
       "      <td>2014-09-20</td>\n",
       "      <td>318.758972</td>\n",
       "      <td>41240.0</td>\n",
       "      <td>1.314562e+07</td>\n",
       "    </tr>\n",
       "    <tr>\n",
       "      <th>4</th>\n",
       "      <td>2014-09-21</td>\n",
       "      <td>310.632446</td>\n",
       "      <td>41160.0</td>\n",
       "      <td>1.278563e+07</td>\n",
       "    </tr>\n",
       "    <tr>\n",
       "      <th>5</th>\n",
       "      <td>2014-09-22</td>\n",
       "      <td>312.958771</td>\n",
       "      <td>41370.0</td>\n",
       "      <td>1.294710e+07</td>\n",
       "    </tr>\n",
       "    <tr>\n",
       "      <th>...</th>\n",
       "      <td>...</td>\n",
       "      <td>...</td>\n",
       "      <td>...</td>\n",
       "      <td>...</td>\n",
       "    </tr>\n",
       "    <tr>\n",
       "      <th>3628</th>\n",
       "      <td>2024-07-28</td>\n",
       "      <td>62377.152344</td>\n",
       "      <td>641500.0</td>\n",
       "      <td>4.001494e+10</td>\n",
       "    </tr>\n",
       "    <tr>\n",
       "      <th>3629</th>\n",
       "      <td>2024-07-29</td>\n",
       "      <td>62894.367188</td>\n",
       "      <td>642100.0</td>\n",
       "      <td>4.038447e+10</td>\n",
       "    </tr>\n",
       "    <tr>\n",
       "      <th>3630</th>\n",
       "      <td>2024-07-30</td>\n",
       "      <td>61759.644531</td>\n",
       "      <td>643300.0</td>\n",
       "      <td>3.972998e+10</td>\n",
       "    </tr>\n",
       "    <tr>\n",
       "      <th>3631</th>\n",
       "      <td>2024-07-31</td>\n",
       "      <td>61208.531250</td>\n",
       "      <td>653200.0</td>\n",
       "      <td>3.998141e+10</td>\n",
       "    </tr>\n",
       "    <tr>\n",
       "      <th>3632</th>\n",
       "      <td>2024-08-01</td>\n",
       "      <td>59700.820313</td>\n",
       "      <td>659100.0</td>\n",
       "      <td>3.934881e+10</td>\n",
       "    </tr>\n",
       "  </tbody>\n",
       "</table>\n",
       "<p>2937 rows × 4 columns</p>\n",
       "</div>"
      ],
      "text/plain": [
       "           Date     Close_btc  Close_eur      btc_rial\n",
       "0    2014-09-17    355.957367    41680.0  1.483630e+07\n",
       "2    2014-09-19    307.761139    41300.0  1.271054e+07\n",
       "3    2014-09-20    318.758972    41240.0  1.314562e+07\n",
       "4    2014-09-21    310.632446    41160.0  1.278563e+07\n",
       "5    2014-09-22    312.958771    41370.0  1.294710e+07\n",
       "...         ...           ...        ...           ...\n",
       "3628 2024-07-28  62377.152344   641500.0  4.001494e+10\n",
       "3629 2024-07-29  62894.367188   642100.0  4.038447e+10\n",
       "3630 2024-07-30  61759.644531   643300.0  3.972998e+10\n",
       "3631 2024-07-31  61208.531250   653200.0  3.998141e+10\n",
       "3632 2024-08-01  59700.820313   659100.0  3.934881e+10\n",
       "\n",
       "[2937 rows x 4 columns]"
      ]
     },
     "execution_count": 85,
     "metadata": {},
     "output_type": "execute_result"
    }
   ],
   "source": [
    "result"
   ]
  },
  {
   "cell_type": "code",
   "execution_count": 86,
   "metadata": {},
   "outputs": [],
   "source": [
    "result = result[['Date','btc_rial']]"
   ]
  },
  {
   "cell_type": "code",
   "execution_count": 87,
   "metadata": {},
   "outputs": [],
   "source": [
    "btc_rial = result"
   ]
  },
  {
   "cell_type": "code",
   "execution_count": 88,
   "metadata": {},
   "outputs": [
    {
     "data": {
      "text/plain": [
       "<Axes: >"
      ]
     },
     "execution_count": 88,
     "metadata": {},
     "output_type": "execute_result"
    },
    {
     "data": {
      "image/png": "[encoded data removed]",
      "text/plain": [
       "<Figure size 432x288 with 1 Axes>"
      ]
     },
     "metadata": {
      "needs_background": "light"
     },
     "output_type": "display_data"
    }
   ],
   "source": [
    "btc_rial['btc_rial'].plot()"
   ]
  },
  {
   "cell_type": "code",
   "execution_count": 89,
   "metadata": {},
   "outputs": [
    {
     "data": {
      "text/html": [
       "<div>\n",
       "<style scoped>\n",
       "    .dataframe tbody tr th:only-of-type {\n",
       "        vertical-align: middle;\n",
       "    }\n",
       "\n",
       "    .dataframe tbody tr th {\n",
       "        vertical-align: top;\n",
       "    }\n",
       "\n",
       "    .dataframe thead th {\n",
       "        text-align: right;\n",
       "    }\n",
       "</style>\n",
       "<table border=\"1\" class=\"dataframe\">\n",
       "  <thead>\n",
       "    <tr style=\"text-align: right;\">\n",
       "      <th></th>\n",
       "      <th>Date</th>\n",
       "      <th>btc_rial</th>\n",
       "    </tr>\n",
       "  </thead>\n",
       "  <tbody>\n",
       "    <tr>\n",
       "      <th>0</th>\n",
       "      <td>2014-09-17</td>\n",
       "      <td>1.483630e+07</td>\n",
       "    </tr>\n",
       "    <tr>\n",
       "      <th>2</th>\n",
       "      <td>2014-09-19</td>\n",
       "      <td>1.271054e+07</td>\n",
       "    </tr>\n",
       "    <tr>\n",
       "      <th>3</th>\n",
       "      <td>2014-09-20</td>\n",
       "      <td>1.314562e+07</td>\n",
       "    </tr>\n",
       "    <tr>\n",
       "      <th>4</th>\n",
       "      <td>2014-09-21</td>\n",
       "      <td>1.278563e+07</td>\n",
       "    </tr>\n",
       "    <tr>\n",
       "      <th>5</th>\n",
       "      <td>2014-09-22</td>\n",
       "      <td>1.294710e+07</td>\n",
       "    </tr>\n",
       "    <tr>\n",
       "      <th>...</th>\n",
       "      <td>...</td>\n",
       "      <td>...</td>\n",
       "    </tr>\n",
       "    <tr>\n",
       "      <th>3628</th>\n",
       "      <td>2024-07-28</td>\n",
       "      <td>4.001494e+10</td>\n",
       "    </tr>\n",
       "    <tr>\n",
       "      <th>3629</th>\n",
       "      <td>2024-07-29</td>\n",
       "      <td>4.038447e+10</td>\n",
       "    </tr>\n",
       "    <tr>\n",
       "      <th>3630</th>\n",
       "      <td>2024-07-30</td>\n",
       "      <td>3.972998e+10</td>\n",
       "    </tr>\n",
       "    <tr>\n",
       "      <th>3631</th>\n",
       "      <td>2024-07-31</td>\n",
       "      <td>3.998141e+10</td>\n",
       "    </tr>\n",
       "    <tr>\n",
       "      <th>3632</th>\n",
       "      <td>2024-08-01</td>\n",
       "      <td>3.934881e+10</td>\n",
       "    </tr>\n",
       "  </tbody>\n",
       "</table>\n",
       "<p>2937 rows × 2 columns</p>\n",
       "</div>"
      ],
      "text/plain": [
       "           Date      btc_rial\n",
       "0    2014-09-17  1.483630e+07\n",
       "2    2014-09-19  1.271054e+07\n",
       "3    2014-09-20  1.314562e+07\n",
       "4    2014-09-21  1.278563e+07\n",
       "5    2014-09-22  1.294710e+07\n",
       "...         ...           ...\n",
       "3628 2024-07-28  4.001494e+10\n",
       "3629 2024-07-29  4.038447e+10\n",
       "3630 2024-07-30  3.972998e+10\n",
       "3631 2024-07-31  3.998141e+10\n",
       "3632 2024-08-01  3.934881e+10\n",
       "\n",
       "[2937 rows x 2 columns]"
      ]
     },
     "execution_count": 89,
     "metadata": {},
     "output_type": "execute_result"
    }
   ],
   "source": [
    "btc_rial"
   ]
  },
  {
   "cell_type": "code",
   "execution_count": 90,
   "metadata": {},
   "outputs": [],
   "source": [
    "gold_price = gold_price[['Date', 'Close']]"
   ]
  },
  {
   "cell_type": "code",
   "execution_count": 91,
   "metadata": {},
   "outputs": [],
   "source": [
    "gold_price.set_index('Date', inplace=True)"
   ]
  },
  {
   "cell_type": "code",
   "execution_count": 93,
   "metadata": {},
   "outputs": [],
   "source": [
    "gold_price.to_excel('gold.xlsx')"
   ]
  },
  {
   "cell_type": "code",
   "execution_count": 94,
   "metadata": {},
   "outputs": [],
   "source": [
    "btc_rial.to_excel('btc.xlsx')"
   ]
  },
  {
   "cell_type": "code",
   "execution_count": null,
   "metadata": {},
   "outputs": [],
   "source": []
  }
 ],
 "metadata": {
  "kernelspec": {
   "display_name": "quera",
   "language": "python",
   "name": "python3"
  },
  "language_info": {
   "codemirror_mode": {
    "name": "ipython",
    "version": 3
   },
   "file_extension": ".py",
   "mimetype": "text/x-python",
   "name": "python",
   "nbconvert_exporter": "python",
   "pygments_lexer": "ipython3",
   "version": "3.9.17"
  }
 },
 "nbformat": 4,
 "nbformat_minor": 2
}
